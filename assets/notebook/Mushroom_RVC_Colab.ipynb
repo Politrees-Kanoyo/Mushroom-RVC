{
  "nbformat": 4,
  "nbformat_minor": 0,
  "metadata": {
    "colab": {
      "provenance": [],
      "gpuType": "T4"
    },
    "kernelspec": {
      "name": "python3",
      "display_name": "Python 3"
    },
    "language_info": {
      "name": "python"
    },
    "accelerator": "GPU"
  },
  "cells": [
    {
      "cell_type": "code",
      "execution_count": null,
      "metadata": {
        "cellView": "form",
        "id": "8NkGtACHCFJf"
      },
      "outputs": [],
      "source": [
        "#@title **Install**\n",
        "\n",
        "from IPython.display import clear_output\n",
        "from ipywidgets import Button\n",
        "\n",
        "!git clone https://github.com/Politrees-Kanoyo/Mushroom-RVC.git -b dev\n",
        "%cd Mushroom-RVC\n",
        "\n",
        "!sudo apt update && sudo apt install -y ffmpeg\n",
        "!pip install uv -q\n",
        "!uv pip install -U setuptools -q\n",
        "!uv pip install -U torch==2.7.1 torchaudio==2.7.1 torchvision==0.22.1 --index-url https://download.pytorch.org/whl/cu128 -q\n",
        "!uv pip install -r requirements.txt -q\n",
        "\n",
        "!rm -r /content/sample_data/\n",
        "clear_output()\n",
        "Button(description=\"\\u2714 Done!\", button_style=\"success\")"
      ]
    },
    {
      "cell_type": "code",
      "source": [
        "#@title **Launch**\n",
        "\n",
        "!python3 web_app.py --cloudflared"
      ],
      "metadata": {
        "cellView": "form",
        "id": "sqhU8XGHCfNP"
      },
      "execution_count": null,
      "outputs": []
    }
  ]
}