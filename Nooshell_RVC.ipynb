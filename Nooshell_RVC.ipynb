{
  "nbformat": 4,
  "nbformat_minor": 0,
  "metadata": {
    "colab": {
      "provenance": [],
      "gpuType": "T4",
      "authorship_tag": "ABX9TyOe8oT7i1d/4Hx6jgOdMmMZ",
      "include_colab_link": true
    },
    "kernelspec": {
      "name": "python3",
      "display_name": "Python 3"
    },
    "language_info": {
      "name": "python"
    },
    "accelerator": "GPU"
  },
  "cells": [
    {
      "cell_type": "markdown",
      "metadata": {
        "id": "view-in-github",
        "colab_type": "text"
      },
      "source": [
        "<a href=\"https://colab.research.google.com/github/BF667/Nooshell-RVC/blob/main/Nooshell_RVC.ipynb\" target=\"_parent\"><img src=\"https://colab.research.google.com/assets/colab-badge.svg\" alt=\"Open In Colab\"/></a>"
      ]
    },
    {
      "cell_type": "markdown",
      "source": [
        "# Nooshell RVC\n",
        "\n",
        "This notebook sets up and runs the Nooshell RVC application in Google Colab with GPU acceleration. Follow the steps below to install dependencies, configure tunneling, and launch the UI.\n",
        "\n",
        "**Author**: [BF667](https://github.com/BF667)  \n",
        "**Project Repository**: [Nooshell-RVC](https://github.com/Politrees-Kanoyo/Nooshell-RVC)"
      ],
      "metadata": {
        "id": "dhQQ3NElXC6c"
      }
    },
    {
      "cell_type": "markdown",
      "source": [
        "## Installation\n",
        "\n",
        "Run this cell to install dependencies and clone the repository. Optionally mount Google Drive to save or load data."
      ],
      "metadata": {
        "id": "new-installation-section"
      }
    },
    {
      "cell_type": "code",
      "execution_count": null,
      "metadata": {
        "id": "x2yqRBeqRLbO",
        "cellView": "form"
      },
      "outputs": [],
      "source": [
        "#@title Install Dependencies\n",
        "from IPython.display import clear_output, display\n",
        "from google.colab import drive\n",
        "import os\n",
        "import subprocess\n",
        "\n",
        "def check_gpu():\n",
        "    try:\n",
        "        !nvidia-smi\n",
        "        return True\n",
        "    except:\n",
        "        print(\"Warning: No GPU detected. This notebook requires a GPU for optimal performance.\")\n",
        "        return False\n",
        "\n",
        "def install_dependencies():\n",
        "    print(\"Cloning repository...\")\n",
        "    repo_url = \"https://github.com/Politrees-Kanoyo/Nooshell-RVC.git\"\n",
        "    try:\n",
        "        subprocess.run([\"git\", \"clone\", repo_url], check=True, stdout=subprocess.DEVNULL, stderr=subprocess.DEVNULL)\n",
        "    except subprocess.CalledProcessError:\n",
        "        print(\"Error: Failed to clone repository. Please check the URL or your network connection.\")\n",
        "        return False\n",
        "\n",
        "    print(\"Installing Python dependencies...\")\n",
        "    requirements_path = \"/content/Nooshell-RVC/requirements.txt\"\n",
        "    try:\n",
        "        subprocess.run([\"pip\", \"install\", \"-r\", requirements_path], check=True, stdout=subprocess.DEVNULL, stderr=subprocess.DEVNULL)\n",
        "    except subprocess.CalledProcessError:\n",
        "        print(\"Error: Failed to install Python dependencies.\")\n",
        "        return False\n",
        "\n",
        "    print(\"Updating apt and installing libcudnn8...\")\n",
        "    try:\n",
        "        subprocess.run([\"apt-get\", \"update\"], check=True, stdout=subprocess.DEVNULL, stderr=subprocess.DEVNULL)\n",
        "        subprocess.run([\"apt-get\", \"install\", \"-y\", \"libcudnn8\"], check=True, stdout=subprocess.DEVNULL, stderr=subprocess.DEVNULL)\n",
        "    except subprocess.CalledProcessError:\n",
        "        print(\"Error: Failed to install system dependencies.\")\n",
        "        return False\n",
        "\n",
        "    return True\n",
        "\n",
        "#@markdown Check to mount Google Drive (optional)\n",
        "use_drive = False  #@param {type:\"boolean\"}\n",
        "\n",
        "print(\"Checking GPU availability...\")\n",
        "check_gpu()\n",
        "\n",
        "if use_drive:\n",
        "    print(\"Mounting Google Drive...\")\n",
        "    try:\n",
        "        drive.mount('/content/drive', force_remount=True)\n",
        "    except Exception as e:\n",
        "        print(f\"Error mounting Google Drive: {e}\")\n",
        "\n",
        "print(\"Starting installation...\")\n",
        "if install_dependencies():\n",
        "    clear_output()\n",
        "    print(\"Installation completed successfully!\")\n",
        "else:\n",
        "    print(\"Installation failed. Please check the error messages above.\")"
      ]
    },
    {
      "cell_type": "markdown",
      "source": [
        "## Run the Application\n",
        "\n",
        "This cell sets up a tunneling service to access the Nooshell RVC UI and launches the application. Select a tunneling service and provide necessary credentials if required.\n",
        "\n",
        "**Instructions**:\n",
        "- Choose a tunnel type from the dropdown.\n",
        "- For Ngrok, LocalTunnel, or Horizon, wait for the Local URL to appear before accessing the Public URL.\n",
        "- Ensure you have the required tokens/IDs for Ngrok or Horizon if selected."
      ],
      "metadata": {
        "id": "new-run-section"
      }
    },
    {
      "cell_type": "code",
      "source": [
        "#@title Launch UI\n",
        "import codecs\n",
        "import os\n",
        "import subprocess\n",
        "import time\n",
        "import urllib.request\n",
        "\n",
        "path = \"/content/Nooshell-RVC\"\n",
        "os.chdir(path)\n",
        "app = codecs.decode('ncc.cl', 'rot_13')\n",
        "\n",
        "#@markdown Select the tunneling service\n",
        "Tunnel = \"Gradio\" #@param [\"Gradio\", \"Ngrok\", \"Cloudflare\", \"LocalTunnel\", \"Horizon\"]\n",
        "\n",
        "#@markdown For Ngrok: Get your authtoken from https://dashboard.ngrok.com/tunnels/authtokens/new\n",
        "ngrok_authtoken = \"\" #@param {type:\"string\"}\n",
        "\n",
        "#@markdown Select Ngrok region for lower latency\n",
        "ngrok_region = \"us - United States (Ohio)\" #@param [\"au - Australia (Sydney)\", \"eu - Europe (Frankfurt)\", \"ap - Asia/Pacific (Singapore)\", \"us - United States (Ohio)\", \"jp - Japan (Tokyo)\", \"in - India (Mumbai)\", \"sa - South America (Sao Paulo)\"]\n",
        "\n",
        "#@markdown For Horizon: Get your ID from https://hrzn.run/dashboard/\n",
        "horizon_id = \"\" #@param {type:\"string\"}\n",
        "\n",
        "def setup_tunnel(tunnel_type, ngrok_token, ngrok_reg, horizon_id):\n",
        "    if tunnel_type == \"Gradio\":\n",
        "        return \"--share\", None\n",
        "    \n",
        "    if tunnel_type == \"Ngrok\":\n",
        "        if not ngrok_token:\n",
        "            raise ValueError(\"Ngrok authtoken is required.\")\n",
        "        from pyngrok import conf, ngrok\n",
        "        ngrok_config = conf.PyngrokConfig(auth_token=ngrok_token, region=ngrok_reg[:2])\n",
        "        conf.set_default(ngrok_config)\n",
        "        http_tunnel = ngrok.connect(4000, bind_tls=True)\n",
        "        print(f\"Ngrok Tunnel Public URL: {http_tunnel.public_url}\")\n",
        "        return \"\", http_tunnel.public_url\n",
        "    \n",
        "    if tunnel_type == \"Cloudflare\":\n",
        "        print(\"Setting up Cloudflare tunnel...\")\n",
        "        !curl -LO https://github.com/cloudflare/cloudflared/releases/latest/download/cloudflared-linux-amd64.deb\n",
        "        !dpkg -i cloudflared-linux-amd64.deb\n",
        "        !rm -f nohup.out\n",
        "        !nohup cloudflared tunnel --url localhost:4000 &\n",
        "        time.sleep(5)\n",
        "        cloudflare_url = !grep -oE \"https://[a-zA-Z0-9.-]+\\.trycloudflare\\.com\" nohup.out\n",
        "        if cloudflare_url:\n",
        "            print(f\"Cloudflare Tunnel Public URL: {cloudflare_url[0]}\")\n",
        "            return \"\", cloudflare_url[0]\n",
        "        else:\n",
        "            raise RuntimeError(\"Failed to retrieve Cloudflare URL.\")\n",
        "    \n",
        "    if tunnel_type == \"LocalTunnel\":\n",
        "        print(\"Setting up LocalTunnel...\")\n",
        "        !npm install -g localtunnel\n",
        "        with open('url.txt', 'w') as file:\n",
        "            file.write('')\n",
        "        get_ipython().system_raw('lt --port 4000 >> url.txt 2>&1 &')\n",
        "        time.sleep(4)\n",
        "        endpoint_ip = urllib.request.urlopen('https://ipv4.icanhazip.com').read().decode('utf8').strip()\n",
        "        with open('url.txt', 'r') as file:\n",
        "            tunnel_url = file.read().replace(\"your url is: \", \"\")\n",
        "        print(f\"LocalTunnel Public URL: {tunnel_url}\")\n",
        "        print(f\"LocalTunnel Password: {endpoint_ip}\")\n",
        "        return \"\", tunnel_url\n",
        "    \n",
        "    if tunnel_type == \"Horizon\":\n",
        "        if not horizon_id:\n",
        "            raise ValueError(\"Horizon ID is required.\")\n",
        "        print(\"Setting up Horizon tunnel...\")\n",
        "        !npm install -g @hrzn/cli\n",
        "        !hrzn login $horizon_id\n",
        "        with open('url.txt', 'w') as file:\n",
        "            file.write('')\n",
        "        get_ipython().system_raw('hrzn tunnel http://localhost:4000 >> url.txt 2>&1 &')\n",
        "        time.sleep(4)\n",
        "        tunnel_url = !grep -oE \"https://[a-zA-Z0-9.-]+\\.hrzn\\.run\" url.txt\n",
        "        if tunnel_url:\n",
        "            print(f\"Horizon Tunnel Public URL: {tunnel_url[0]}\")\n",
        "            return \"\", tunnel_url[0]\n",
        "        else:\n",
        "            raise RuntimeError(\"Failed to retrieve Horizon URL.\")\n",
        "\n",
        "try:\n",
        "    # Clean up any existing processes\n",
        "    !fuser -k 4000/tcp\n",
        "    !fuser -k 9999/tcp\n",
        "\n",
        "    # Set up tunnel\n",
        "    share_flag, public_url = setup_tunnel(Tunnel, ngrok_authtoken, ngrok_region, horizon_id)\n",
        "\n",
        "    # Launch the application\n",
        "    print(\"Launching Nooshell RVC...\")\n",
        "    command = f\"python {app} {share_flag}\"\n",
        "    subprocess.run(command, shell=True, check=True)\n",
        "except Exception as e:\n",
        "    print(f\"Error: {e}\")\n",
        "    print(\"Failed to launch the application. Please check the error message and ensure all inputs are correct.\")"
      ],
      "metadata": {
        "cellView": "form",
        "id": "eCBCyki9UbO-"
      },
      "execution_count": null,
      "outputs": []
    },
    {
      "cell_type": "markdown",
      "source": [
        "## Contributors\n",
        "\n",
        "Thanks to everyone who contributed to the Nooshell RVC project:  \n",
        "<a href=\"https://github.com/Politrees-Kanoyo/Nooshell-RVC/graphs/contributors\" target=\"_blank\">\n",
        "  <img src=\"https://contrib.rocks/image?repo=Politrees-Kanoyo/Nooshell-RVC\" />\n",
        "</a>"
      ],
      "metadata": {
        "id": "Az_B7u9rUXU6"
      }
    }
  ]
}
